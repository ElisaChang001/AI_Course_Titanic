{
  "nbformat": 4,
  "nbformat_minor": 0,
  "metadata": {
    "colab": {
      "name": "Titanic_20220624.ipynb",
      "provenance": [],
      "authorship_tag": "ABX9TyNgXlEwIYVYXSPjAjRr/L33",
      "include_colab_link": true
    },
    "kernelspec": {
      "name": "python3",
      "display_name": "Python 3"
    },
    "language_info": {
      "name": "python"
    }
  },
  "cells": [
    {
      "cell_type": "markdown",
      "metadata": {
        "id": "view-in-github",
        "colab_type": "text"
      },
      "source": [
        "<a href=\"https://colab.research.google.com/github/ElisaChang001/AI_Course_Titanic/blob/main/Titanic_20220624.ipynb\" target=\"_parent\"><img src=\"https://colab.research.google.com/assets/colab-badge.svg\" alt=\"Open In Colab\"/></a>"
      ]
    },
    {
      "cell_type": "markdown",
      "source": [
        "Titanic - Machine Learning from Disaster<br>\n",
        "\n",
        "Download dataset:https://www.kaggle.com/datasets/brendan45774/test-file?resource=download<br>\n",
        "\n",
        "Predict survival on the Titanic and get familiar with ML basics<br><p><p>\n",
        "There are three datasets as follow:<br>\n",
        "(1)train.csv<br>\n",
        "(2)test.csv<br>\n",
        "(3)gender_submission.csv<br>"
      ],
      "metadata": {
        "id": "V_rU5vhOAMb8"
      }
    },
    {
      "cell_type": "code",
      "source": [
        "#Data\n",
        "#Survived=1,Survived=0=died\n",
        "\n",
        "import pandas as pd\n",
        "import numpy as np\n",
        "import seaborn as sns\n",
        "\n",
        "import matplotlib.pyplot as plt\n",
        "%matplotlib inline\n",
        "\n",
        "path_1='/content/train.csv'\n",
        "path_2='/content/test.csv'\n",
        "path_3='/content/gender_submission.csv'\n",
        "df_train = pd.read_csv(path_1)\n",
        "df_test = pd.read_csv(path_2)\n",
        "df_gender = pd.read_csv(path_3)\n",
        "df_train.head()\n",
        "df_test.head()\n",
        "df_gender.head()\n",
        "\n",
        "print ('train',len(df_train)) #891\n",
        "print ('test',len(df_test))  #418\n",
        "print ('gender',len(df_gender)) #418\n",
        "\n",
        "print('Train columns:', df_train.columns.tolist())\n",
        "print('Test columns:', df_test.columns.tolist())\n",
        "print('gender columns:', df_gender.columns.tolist())\n",
        "\n",
        "\n",
        "df_test_1=df_test.merge(df_gender, left_on='PassengerId', right_on='PassengerId')\n",
        "print(len(df_test_1))\n",
        "\n",
        "print('df_test_1:', df_test_1.columns.tolist())"
      ],
      "metadata": {
        "colab": {
          "base_uri": "https://localhost:8080/"
        },
        "id": "z9OtqGStBt7N",
        "outputId": "e92aa8ee-2771-47a2-a41e-4dc77eb4bd40"
      },
      "execution_count": null,
      "outputs": [
        {
          "output_type": "stream",
          "name": "stdout",
          "text": [
            "train 891\n",
            "test 418\n",
            "gender 418\n",
            "Train columns: ['PassengerId', 'Survived', 'Pclass', 'Name', 'Sex', 'Age', 'SibSp', 'Parch', 'Ticket', 'Fare', 'Cabin', 'Embarked']\n",
            "Test columns: ['PassengerId', 'Pclass', 'Name', 'Sex', 'Age', 'SibSp', 'Parch', 'Ticket', 'Fare', 'Cabin', 'Embarked']\n",
            "gender columns: ['PassengerId', 'Survived']\n",
            "418\n",
            "df_test_1: ['PassengerId', 'Pclass', 'Name', 'Sex', 'Age', 'SibSp', 'Parch', 'Ticket', 'Fare', 'Cabin', 'Embarked', 'Survived']\n"
          ]
        }
      ]
    },
    {
      "cell_type": "code",
      "source": [
        "#age \n",
        "print('CountNaN_age:',df_train[\"Age\"].isna().sum() ) #177\n",
        "\n",
        "age_median = np.nanmedian(df_train[\"Age\"])\n",
        "new_Age = np.where(df_train[\"Age\"].isnull(), age_median, df_train[\"Age\"])\n",
        "df_train[\"Age\"] = new_Age\n",
        "print('CountNaN_age:',df_train[\"Age\"].isna().sum() )  #0"
      ],
      "metadata": {
        "colab": {
          "base_uri": "https://localhost:8080/"
        },
        "id": "ZwnK8PZwDOfw",
        "outputId": "065c3b7d-71fd-48ee-e9b3-2ce527556db1"
      },
      "execution_count": null,
      "outputs": [
        {
          "output_type": "stream",
          "name": "stdout",
          "text": [
            "CountNaN_age: 177\n",
            "CountNaN_age: 0\n"
          ]
        }
      ]
    },
    {
      "cell_type": "code",
      "source": [
        "#pclass\n",
        "plt.rc('xtick', labelsize=14) \n",
        "plt.rc('ytick', labelsize=14)\n",
        "\n",
        "plt.figure()\n",
        "fig = df_train.groupby('Survived')['Pclass'].plot.hist(histtype= 'bar', alpha = 0.8)\n",
        "plt.legend(('Died','Survived'), fontsize = 12)\n",
        "plt.xlabel('Pclass', fontsize = 18)\n",
        "plt.show()"
      ],
      "metadata": {
        "colab": {
          "base_uri": "https://localhost:8080/",
          "height": 291
        },
        "id": "0ZOeiO6PDdis",
        "outputId": "0459dbc7-b517-4fa5-fd02-0c1849ebbbe4"
      },
      "execution_count": null,
      "outputs": [
        {
          "output_type": "display_data",
          "data": {
            "text/plain": [
              "<Figure size 432x288 with 1 Axes>"
            ],
            "image/png": "[encoded data removed]"
          },
          "metadata": {
            "needs_background": "light"
          }
        }
      ]
    },
    {
      "cell_type": "code",
      "source": [
        "#sex\n",
        "from sklearn import preprocessing, linear_model\n",
        "\n",
        "label_encoder = preprocessing.LabelEncoder()\n",
        "df_train['encoded_Sex'] = label_encoder.fit_transform(df_train[\"Sex\"])\n",
        "\n",
        "df_test_2=df_test_1[[\"Pclass\",\"Age\",\"Sex\",'Survived']]\n",
        "df_test_3=df_test_2.dropna()\n",
        "\n",
        "\n",
        "df_test_3['encoded_Sex'] = label_encoder.fit_transform(df_test_3[\"Sex\"])\n",
        "print(len(df_test_3))  #322\n",
        "print(df_test_3.head())"
      ],
      "metadata": {
        "colab": {
          "base_uri": "https://localhost:8080/"
        },
        "id": "xjq8aN77Dfs6",
        "outputId": "1e87ec7e-720c-48da-a2c5-9c68bcc3e3e3"
      },
      "execution_count": null,
      "outputs": [
        {
          "output_type": "stream",
          "name": "stdout",
          "text": [
            "332\n",
            "   Pclass   Age     Sex  Survived  encoded_Sex\n",
            "0       3  34.5    male         0            1\n",
            "1       3  47.0  female         1            0\n",
            "2       2  62.0    male         0            1\n",
            "3       3  27.0    male         0            1\n",
            "4       3  22.0  female         1            0\n"
          ]
        },
        {
          "output_type": "stream",
          "name": "stderr",
          "text": [
            "/usr/local/lib/python3.7/dist-packages/ipykernel_launcher.py:11: SettingWithCopyWarning: \n",
            "A value is trying to be set on a copy of a slice from a DataFrame.\n",
            "Try using .loc[row_indexer,col_indexer] = value instead\n",
            "\n",
            "See the caveats in the documentation: https://pandas.pydata.org/pandas-docs/stable/user_guide/indexing.html#returning-a-view-versus-a-copy\n",
            "  # This is added back by InteractiveShellApp.init_path()\n"
          ]
        }
      ]
    },
    {
      "cell_type": "code",
      "source": [
        "#split X_train, X_test, y_train, y_test\n",
        "#X:age pclass  Y:Survived\n",
        "\n",
        "df_train.head()  #891\n",
        "X_train=df_train[[\"Age\",'encoded_Sex','Pclass']]\n",
        "y_train=df_train[['Survived']]\n",
        "\n",
        "X_test=df_test_3[[\"Age\",'encoded_Sex','Pclass']]\n",
        "y_test=df_test_3[['Survived']]"
      ],
      "metadata": {
        "id": "JGHTFtClDisN"
      },
      "execution_count": null,
      "outputs": []
    },
    {
      "cell_type": "code",
      "source": [
        "# Logistic Regression Model Fitting\n",
        "from sklearn.linear_model import LogisticRegression\n",
        "from sklearn import metrics\n",
        "\n",
        "logreg = LogisticRegression()\n",
        "logreg.fit(X_train, y_train.values.ravel())"
      ],
      "metadata": {
        "colab": {
          "base_uri": "https://localhost:8080/"
        },
        "id": "_T59G3MiDmST",
        "outputId": "0e8cc704-a9d7-42cc-bb9c-3dd9654adb4a"
      },
      "execution_count": null,
      "outputs": [
        {
          "output_type": "execute_result",
          "data": {
            "text/plain": [
              "LogisticRegression()"
            ]
          },
          "metadata": {},
          "execution_count": 8
        }
      ]
    },
    {
      "cell_type": "code",
      "source": [
        "#Predicting the test set results calculating the accuracy\n",
        "y_pred = logreg.predict(X_test)\n",
        "print('Accuracy of logistic regression classifier on test set: {:.2f}'.format(logreg.score(X_test, y_test)))"
      ],
      "metadata": {
        "colab": {
          "base_uri": "https://localhost:8080/"
        },
        "id": "ZEfBeovWDodh",
        "outputId": "9a06e486-2728-470c-e57c-f815f1ff6244"
      },
      "execution_count": null,
      "outputs": [
        {
          "output_type": "stream",
          "name": "stdout",
          "text": [
            "Accuracy of logistic regression classifier on test set: 0.95\n"
          ]
        }
      ]
    },
    {
      "cell_type": "code",
      "source": [
        "#Confusion Matrix\n",
        "from sklearn.metrics import confusion_matrix\n",
        "confusion_matrix = confusion_matrix(y_test, y_pred)\n",
        "print(confusion_matrix)\n",
        "#Accuracy=(196+119)/(196+119+8+9)=0.948"
      ],
      "metadata": {
        "colab": {
          "base_uri": "https://localhost:8080/"
        },
        "id": "gav5vj2XDyGi",
        "outputId": "abdc57ea-479a-4d2b-9fa2-e6dda3ce3485"
      },
      "execution_count": null,
      "outputs": [
        {
          "output_type": "stream",
          "name": "stdout",
          "text": [
            "[[196   9]\n",
            " [  8 119]]\n"
          ]
        }
      ]
    },
    {
      "cell_type": "code",
      "source": [
        "# Compute precision, recall, F-measure\n",
        "from sklearn.metrics import classification_report\n",
        "print(classification_report(y_test, y_pred))"
      ],
      "metadata": {
        "colab": {
          "base_uri": "https://localhost:8080/"
        },
        "id": "M1Mrl2vFD12I",
        "outputId": "818a6b2a-6d04-44ec-efdb-aca4351f3836"
      },
      "execution_count": null,
      "outputs": [
        {
          "output_type": "stream",
          "name": "stdout",
          "text": [
            "              precision    recall  f1-score   support\n",
            "\n",
            "           0       0.96      0.96      0.96       205\n",
            "           1       0.93      0.94      0.93       127\n",
            "\n",
            "    accuracy                           0.95       332\n",
            "   macro avg       0.95      0.95      0.95       332\n",
            "weighted avg       0.95      0.95      0.95       332\n",
            "\n"
          ]
        }
      ]
    },
    {
      "cell_type": "code",
      "source": [
        ""
      ],
      "metadata": {
        "id": "xeBV14kMD39B"
      },
      "execution_count": null,
      "outputs": []
    },
    {
      "cell_type": "markdown",
      "source": [
        "(1)Precision:0.93<br>\n",
        "(2)Recall:0.94<br>\n",
        "(3)F1 score:0.93<br>"
      ],
      "metadata": {
        "id": "R8d_wqqLD6Ne"
      }
    }
  ]
}